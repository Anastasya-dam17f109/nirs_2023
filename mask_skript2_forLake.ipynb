{
 "cells": [
  {
   "cell_type": "code",
   "execution_count": 99,
   "metadata": {},
   "outputs": [
    {
     "name": "stdout",
     "output_type": "stream",
     "text": [
      "all was opened\n",
      "masks were drawen\n"
     ]
    }
   ],
   "source": [
    "from PIL import Image\n",
    "from PIL import ImageDraw\n",
    "\n",
    "import sys\n",
    "\n",
    "#psp_fileName = \"D:/image_data/__FR1.jpg.BMP._PSP\"\n",
    "#image_fileName = \"D:/image_data/__FR1.jpg.BMP\"\n",
    "#newMask_fileName = \"D:/image_data/new_mask_class_\"\n",
    "#fragm_dir = \"D:/image_data/fragments\"\n",
    "#acc_file = 'D:/image_data/accuracy.txt'\n",
    "#result_fileName = \"D:/image_data/classification_result.BMP\"\n",
    "#marks_filename = 'D:/image_data/class_marks.txt'\n",
    "#img_len = 512\n",
    "#param1 = 25\n",
    "\n",
    "img_file_name = image_fileName\n",
    "#дополнять массив цветами по мере необходимости\\n\",\n",
    "t_color = ['blue', 'red', 'yellow', 'green' , 'violet']\n",
    "temple_file = Image.open(img_file_name)\n",
    "colors = {}\n",
    "#сборка границ прямоугольникв, из которых будут вырезаться области (если их на изображении несколько)\n",
    "classRects=[]\n",
    "curColor = \"\"\n",
    "class_numb = '021'\n",
    "rect_flag  = False\n",
    "   \n",
    "img = Image.new('RGB', temple_file.size, color=0)\n",
    "draw  = ImageDraw.Draw(img)\n",
    "fp = open(psp_fileName)\n",
    "print(\"all was opened\")\n",
    "for k, txt in enumerate(fp):\n",
    "    if k<2:\n",
    "        continue\n",
    "    zz, t = txt.split('=')\n",
    "    if t.find('Pline') >= 0:\n",
    "        x2y = []\n",
    "        rect_flag = False\n",
    "        continue\n",
    "    if t.find('Rectangle') >= 0:\n",
    "        x2y = []\n",
    "        rect_flag = True\n",
    "        continue\n",
    "    if t.find('Pen') >= 0:\n",
    "        p = t.split(',')\n",
    "        curColor = p[2]\n",
    "        if p[2] not in  colors:\n",
    "            colors.update({p[2]: len(colors)})\n",
    "   \n",
    "    t = t.split(' ')\n",
    "    if t[0] == '':\n",
    "        if rect_flag:\n",
    "            x2y.insert(1,(x2y[0][0],x2y[1][1]))\n",
    "            x2y.append( (x2y[2][0], x2y[0][1]))  \n",
    "        idx = colors.get(curColor) \n",
    "        if idx ==  len(classRects):\n",
    "            classRects.append([x2y])\n",
    "        else:\n",
    "            classRects[idx].append(x2y)\n",
    "        #print(classRects)   \n",
    "        draw.polygon(x2y, outline = t_color[idx], fill = t_color[idx])\n",
    "        continue\n",
    "    x2y.append((int(t[0]), int(t[1])))\n",
    "print(\"masks were drawen\")\n",
    "img.save(newMask_fileName + class_numb +\".BMP\")\n",
    "img.close()\n",
    "fp.close()"
   ]
  },
  {
   "cell_type": "code",
   "execution_count": 100,
   "metadata": {},
   "outputs": [
    {
     "name": "stdout",
     "output_type": "stream",
     "text": [
      "5\n"
     ]
    }
   ],
   "source": [
    "from PIL import Image,ImageOps,ImageStat,ImageDraw\n",
    "import os,os.path\n",
    "import sys\n",
    "import math\n",
    "\n",
    "step_len = 5\n",
    "win_size = step_len * 2 + 1\n",
    "bound = math.ceil(math.sqrt(2)*win_size-win_size)\n",
    "dir_name = fragm_dir\n",
    "labels=[]\n",
    "nmb_fragm = 0\n",
    "print(bound)\n",
    "im = Image.open(img_file_name)\n",
    "for i in range(len(colors)):\n",
    "    for j in range(len(classRects[i])):\n",
    "        \n",
    "        x0 = classRects[i][j][0][0]\n",
    "        y0 = classRects[i][j][0][1]\n",
    "        x_len =  classRects[i][j][1][1]-classRects[i][j][0][1]\n",
    "        y_len =  classRects[i][j][2][0]-classRects[i][j][1][0]\n",
    "        x_amount = int(x_len/step_len)\n",
    "        y_amount = int(y_len/step_len)\n",
    "        for k in range(x_amount):\n",
    "            for l in range(y_amount):\n",
    "                labels.append(i)\n",
    "                im2=im.crop((x0 + k * step_len -3, y0+ l * step_len -3, x0 + k * step_len +3 + win_size,y0+ l * step_len +3 + win_size)) \n",
    "                imfnam=dir_name+\"\\\\+++fragm{:05d}.jpg\".format(nmb_fragm); \n",
    "                nmb_fragm+=1;\n",
    "                im2.save(imfnam)\n",
    "im.close()"
   ]
  },
  {
   "cell_type": "code",
   "execution_count": 101,
   "metadata": {},
   "outputs": [],
   "source": [
    "import matplotlib.pyplot as plt\n",
    "%matplotlib inline\n",
    "\n",
    "from PIL import Image,ImageOps,ImageStat,ImageDraw\n",
    "import os,os.path\n",
    "import sys\n",
    "\n",
    "import tensorflow as tf\n",
    "from tensorflow  import keras as keras\n",
    "from keras import Model\n",
    "from keras import layers\n",
    "from keras import losses\n",
    "from keras.models import Sequential\n",
    "from keras.layers import Dense, Dropout, Activation, Flatten\n",
    "from keras.optimizers import Adam\n",
    "from keras.utils import to_categorical"
   ]
  },
  {
   "cell_type": "code",
   "execution_count": 102,
   "metadata": {},
   "outputs": [
    {
     "name": "stdout",
     "output_type": "stream",
     "text": [
      "train_x_augm.shape= (1128, 11, 11, 3)\n"
     ]
    },
    {
     "data": {
      "image/png": "[encoded data removed]",
      "text/plain": [
       "<Figure size 640x320 with 32 Axes>"
      ]
     },
     "metadata": {
      "needs_background": "light"
     },
     "output_type": "display_data"
    }
   ],
   "source": [
    "import numpy as np\n",
    "import random\n",
    "\n",
    "\n",
    "#rjkbxtcndj преобразований , выполняемых над изображением\n",
    "transAmount = 6;\n",
    "dlin   = 0\n",
    "\n",
    "def load_CNN_train_augment(dir_name1):\n",
    "    ll=[]           #пустой список имен входных файлов JPG \n",
    "    for file in os.listdir(dir_name1):\n",
    "        if file.endswith(\".jpg\"): ll.append(file)\n",
    "    dlin   = len(ll)     \n",
    "    dlin0  = int(len(ll)/2)  #будем пропускать нечетные элементы\n",
    "    #dlin=int(dlin0*(var+1) )  #0 ->просто чтение, 1 ->+90, 2 ->+180, 3 ->+270 дополняем массив\n",
    "    train_x = np.zeros((dlin * transAmount, win_size, win_size, 3), dtype='float32')\n",
    "    print('train_x_augm.shape=',train_x.shape)\n",
    "    train_z = np.zeros((dlin * transAmount, 1), dtype='float32')\n",
    "    dlin = dlin * transAmount\n",
    "    k=0\n",
    "    for file in ll:\n",
    "        im  = Image.open(dir_name+\"\\\\\"+file)\n",
    "        train_x[transAmount * k] = np.array(im.crop((3,3,3 + win_size, 3 +win_size)))*1./255.    \n",
    "        train_x[transAmount * k + 1] = np.array(im.rotate(45).crop((3,3,3 + win_size,3 + win_size)))*1./255.    #print(b0.shape)\n",
    "        shift0 = random.randint(0,6)\n",
    "        shift1 = random.randint(0,6)\n",
    "        shift2 = random.randint(0,6)\n",
    "        shift3 = random.randint(0,6)\n",
    "        #shift0 = 3\n",
    "        #shift1 = 3\n",
    "        #shift2 = 3\n",
    "        #shift3 = 3\n",
    "        if shift0 == 0 and shift1 == 0:\n",
    "            shift0 += 2\n",
    "        if shift2 == 0 or shift2 == 3:    \n",
    "            shift2 +=1\n",
    "        if shift3 == 0 or shift3 == 3:    \n",
    "            shift3 +=1    \n",
    "        train_x[transAmount * k + 2] = np.array(im.crop((shift0,0,shift0 + win_size,win_size)))*1./255.    #print(b0.shape)\n",
    "        \n",
    "        train_x[transAmount * k + 3] = np.array(im.crop((0,shift1,win_size,shift1 + win_size)))*1./255.    #print(b0.shape)\n",
    "        train_x[transAmount * k + 4] = np.array(im.rotate(90).crop((shift2,shift3,shift2 + win_size,shift3 + win_size)))*1./255.\n",
    "        train_x[transAmount * k + 5] = np.array(im.rotate(180).crop((3,3,3+win_size,3+win_size)))*1./255.\n",
    "        #train_x[transAmount * k + 4] = np.array(im.crop((0,8,13,21)))*1./255.   \n",
    "        train_z[k * transAmount] = int(labels[k])\n",
    "        train_z[transAmount * k + 1] = int(labels[k])\n",
    "        train_z[transAmount * k + 3] = int(labels[k])\n",
    "        train_z[transAmount * k + 2] = int(labels[k])   \n",
    "        train_z[transAmount * k + 4] = int(labels[k])  \n",
    "        train_z[transAmount * k + 5] = int(labels[k])  \n",
    "        k+=1\n",
    "        if k==dlin: break\n",
    "    temp=[]\n",
    "    for i in range(len(train_z)):\n",
    "        temp.append(to_categorical(train_z[i],num_classes=len(colors)))\n",
    "    train_y=np.array(temp)    \n",
    "    return train_x,train_y\n",
    "\n",
    "train_x1,train_y1=load_CNN_train_augment(dir_name)\n",
    "%matplotlib inline\n",
    "def show_img_data(X_data,K0,rows,cols):   # смотрим на первые rows*cols \n",
    "    fig, axes = plt.subplots(rows, cols, figsize=(4, 2), dpi=160) #, figsize=(20, 6)) \n",
    "    for j in range(rows):\n",
    "        for k in range(cols):\n",
    "            axes[j,k].set_axis_off()\n",
    "            axes[j,k].imshow(X_data[K0+j*cols+k].squeeze(), cmap='Greys', interpolation='None') #)'auto')\n",
    "\n",
    "show_img_data(train_x1,0,4,8) \n",
    "#np.random.shuffle(train_x1)\n",
    "#print('train_x_augm.shape=',train_x1.shape)"
   ]
  },
  {
   "cell_type": "code",
   "execution_count": 103,
   "metadata": {},
   "outputs": [
    {
     "data": {
      "text/plain": [
       "'\\nfrom PIL import Image,ImageOps,ImageStat,ImageDraw\\n\",\\n    \"import os,os.path\\n\",\\n    \"import sys\\n\",\\n    \"\\n\",\\n    \"img_nam = \"D:/_SAR_Kubinka/new_mask_class_021.BMP\"\\n\",\\n    \"im = Image.open(img_nam) \\n\",\\n    \"obj = im.load()\\n\",\\n    \"\\n\",\\n    \"imWidth, imHeight = im.size\\n\",\\n    \"\\n\",\\n    \"for i in range(imWidth):\\n\",\\n    \"    for j in range(imHeight):\\n\",\\n    \"        print(obj[i , j])\\n'"
      ]
     },
     "execution_count": 103,
     "metadata": {},
     "output_type": "execute_result"
    }
   ],
   "source": [
    "\"\"\"\n",
    "from PIL import Image,ImageOps,ImageStat,ImageDraw\\n\",\n",
    "    \"import os,os.path\\n\",\n",
    "    \"import sys\\n\",\n",
    "    \"\\n\",\n",
    "    \"img_nam = \\\"D:/_SAR_Kubinka/new_mask_class_021.BMP\\\"\\n\",\n",
    "    \"im = Image.open(img_nam) \\n\",\n",
    "    \"obj = im.load()\\n\",\n",
    "    \"\\n\",\n",
    "    \"imWidth, imHeight = im.size\\n\",\n",
    "    \"\\n\",\n",
    "    \"for i in range(imWidth):\\n\",\n",
    "    \"    for j in range(imHeight):\\n\",\n",
    "    \"        print(obj[i , j])\n",
    "\"\"\""
   ]
  },
  {
   "cell_type": "code",
   "execution_count": 104,
   "metadata": {},
   "outputs": [
    {
     "name": "stdout",
     "output_type": "stream",
     "text": [
      "train_x_augm.shape= (200, 1, 5)\n",
      "train_x_augm.shape= (928, 11, 11, 3)\n"
     ]
    }
   ],
   "source": [
    "import random\n",
    "amount_valid = 200\n",
    "k = 0\n",
    "idx_del = set()\n",
    "train_x_valid = np.zeros((amount_valid, win_size, win_size, 3), dtype='float32')\n",
    "train_y_valid = np.zeros((amount_valid,1,5), dtype='float32')\n",
    "while k <amount_valid:\n",
    "    idx =random.randint(0, train_x1.shape[0]-1)\n",
    "    while idx in idx_del:\n",
    "        idx = random.randint(0, train_x1.shape[0]-1)\n",
    "    idx_del.add(idx)\n",
    "    train_x_valid[k] = train_x1[idx]\n",
    "    train_y_valid[k] = train_y1[idx]\n",
    "    k += 1\n",
    "\n",
    "\n",
    "\n",
    "idx_del = list(idx_del)\n",
    "train_x_data = np.delete(train_x1, idx_del,0)\n",
    "train_y_data = np.delete(train_y1, idx_del,0)\n",
    "\n",
    "print('train_x_augm.shape=',train_y_valid.shape)\n",
    "print('train_x_augm.shape=',train_x_data.shape)\n",
    "#реорганизация набора тестовых данных, чтобы была равномерность \n",
    "train_x_valid_buf = np.zeros((train_x_data.shape[0]//2, win_size, win_size, 3), dtype='float32')\n",
    "train_y_valid_buf = np.zeros((train_x_data.shape[0]//2,1,5), dtype='float32')\n",
    "\n",
    "for i in range(train_x_data.shape[0]//2):\n",
    "    if i%2 ==0:\n",
    "        train_x_valid_buf[i] = train_x_data[2*i]\n",
    "        train_y_valid_buf[i] = train_y_data[2*i]\n",
    "np.flip( train_x_valid_buf)  \n",
    "np.flip( train_y_valid_buf)  \n",
    "for i in range(train_x_data.shape[0]//2):\n",
    "    if i%2 ==0:\n",
    "        train_x_data[2*i] = train_x_valid_buf[i]\n",
    "        train_y_data[2*i] = train_y_valid_buf[i]"
   ]
  },
  {
   "cell_type": "code",
   "execution_count": 105,
   "metadata": {},
   "outputs": [],
   "source": [
    "def train_CNN_model_ex(model_t,train_xt,train_yt,dlin_t,msize,step1,step2,val_split):\n",
    "    model_temp=model_t\n",
    "    val_acc_min=0.0\n",
    "    for k in range(step1):\n",
    "        #model_t.fit(train_xt,train_yt,epochs=step2,verbose=0,batch_size=16,validation_split=0.15)\n",
    "        hist=model_t.fit(train_xt,train_yt.squeeze(),epochs=step2,verbose=0,validation_split=val_split)\n",
    "        vvv=hist.history['val_accuracy']\n",
    "        #vvv=hist.history['val_acc']\n",
    "        print(k,vvv)\n",
    "        val_acc=vvv[0]\n",
    "        if val_acc> val_acc_min:\n",
    "            model_temp=model_t\n",
    "            val_acc_min=val_acc\n",
    "            hist=model_t.fit(train_xt,train_yt.squeeze(),epochs=1,verbose=1,validation_split=val_split)\n",
    "        \n",
    "    #get_CNN_stat(train_xt,train_yt,dlin_t,model_t,msize)\n",
    "    #get_CNN_stat(train_xz,train_yz,dlin_t,model_t,msize)\n",
    "    print('end CNN train')\n",
    "    return model_temp"
   ]
  },
  {
   "cell_type": "code",
   "execution_count": 106,
   "metadata": {},
   "outputs": [
    {
     "name": "stdout",
     "output_type": "stream",
     "text": [
      "928 11 11 3\n"
     ]
    }
   ],
   "source": [
    "from keras.models import Model # basic class for specifying and training a neural network\n",
    "from keras.layers import Input, Convolution2D, MaxPooling2D, Dense, Dropout, Flatten\n",
    "#from keras.preprocessing.image import ImageDataGenerator\n",
    "\n",
    "from keras.utils import np_utils # utilities for one-hot encoding of ground truth values\n",
    "\n",
    "num_train, height, width, depth = train_x_data.shape # there are 50000 training examples in CIFAR-10 \n",
    "print(num_train, height, width, depth)"
   ]
  },
  {
   "cell_type": "code",
   "execution_count": 107,
   "metadata": {},
   "outputs": [],
   "source": [
    "def def_cnn_model(height,width,depth):\n",
    "    batch_size = 8 # in each iteration, we consider 32 training examples at once\n",
    "    num_epochs = 2 # we iterate 200 times over the entire training set\n",
    "    kernel_size = 3 # we will use 3x3 kernels throughout\n",
    "    pool_size = 2 # we will use 2x2 pooling throughout\n",
    "    conv_depth_1 = 6#6#height*2 # we will initially have 32 kernels per conv. layer...\n",
    "    conv_depth_2 = height #64 # ...switching to 64 after the first pooling layer\n",
    "    drop_prob_1 = 0.25 # dropout after pooling with probability 0.25\n",
    "    drop_prob_2 = 0.5 # dropout in the FC layer with probability 0.5\n",
    "    hidden_size = 58 # the FC layer will have 512 neurons\n",
    "    num_classes=5\n",
    "\n",
    "    inp = Input(shape=(height, width,depth)) # N.B. depth goes first in Keras!\n",
    "# Conv [32] -> Conv [32] -> Pool (with dropout on the pooling layer)\n",
    "    conv_1 = Convolution2D(conv_depth_1, kernel_size, kernel_size, border_mode='same', activation='relu')(inp)\n",
    "    conv_2 = Convolution2D(conv_depth_1, kernel_size, kernel_size, border_mode='same', activation='relu')(conv_1)\n",
    "    conv_3 = Convolution2D(conv_depth_1, kernel_size, kernel_size, border_mode='same', activation='relu')(conv_2)\n",
    "    pool_1 = MaxPooling2D(pool_size=(pool_size, pool_size))(conv_3)\n",
    "    drop_1 = Dropout(drop_prob_1)(pool_1)\n",
    "# Conv [64] -> Conv [64] -> Pool (with dropout on the pooling layer)\n",
    "#    conv_3 = Convolution2D(conv_depth_2, kernel_size, kernel_size, border_mode='same', activation='relu')(conv_2)\n",
    "#    conv_4 = Convolution2D(conv_depth_2, kernel_size, kernel_size, border_mode='same', activation='relu')(conv_3)\n",
    "#    pool_2 = MaxPooling2D(pool_size=(pool_size, pool_size))(conv_4)\n",
    "#drop_2 = Dropout(drop_prob_1)(pool_2)\n",
    "# Now flatten to 1D, apply FC -> ReLU (with dropout) -> softmax\n",
    "    flat = Flatten()(drop_1)\n",
    "#    hidden = Dense(hidden_size, activation='relu')(flat)\n",
    "#drop_3 = Dropout(drop_prob_2)(hidden)\n",
    "    out = Dense(num_classes, activation='softmax')(flat)\n",
    "\n",
    "    model = Model(input=inp, output=out) # To define a model, just specify its input and output layers\n",
    "    model.compile(loss='categorical_crossentropy', # using the cross-entropy loss function\n",
    "              optimizer='adam', # using the Adam optimiser\n",
    "              metrics=['accuracy']) # reporting the accuracy\n",
    "    return model"
   ]
  },
  {
   "cell_type": "code",
   "execution_count": null,
   "metadata": {},
   "outputs": [],
   "source": [
    "def def_cnn_model_1(height,width,depth):\n",
    "    batch_size = 8 # in each iteration, we consider 32 training examples at once\n",
    "    num_epochs = 2 # we iterate 200 times over the entire training set\n",
    "    kernel_size = 3 # we will use 3x3 kernels throughout\n",
    "    pool_size = 2 # we will use 2x2 pooling throughout\n",
    "    conv_depth_1 = 22#6#height*2 # we will initially have 32 kernels per conv. layer...\n",
    "    conv_depth_2 = height #64 # ...switching to 64 after the first pooling layer\n",
    "    drop_prob_1 = 0.25 # dropout after pooling with probability 0.25\n",
    "    drop_prob_2 = 0.5 # dropout in the FC layer with probability 0.5\n",
    "    hidden_size = 58 # the FC layer will have 512 neurons\n",
    "    num_classes=5\n",
    "\n",
    "    inp = Input(shape=(height, width,depth)) # N.B. depth goes first in Keras!\n",
    "# Conv [32] -> Conv [32] -> Pool (with dropout on the pooling layer)\n",
    "    conv_1 = Convolution2D(conv_depth_1, kernel_size, kernel_size, border_mode='same', activation='relu')(inp)\n",
    "    conv_2 = Convolution2D(conv_depth_1, kernel_size, kernel_size, border_mode='same', activation='relu')(conv_1)\n",
    "    \n",
    "    pool_1 = MaxPooling2D(pool_size=(pool_size, pool_size))(conv_2)\n",
    "    drop_1 = Dropout(drop_prob_1)(pool_1)\n",
    "# Conv [64] -> Conv [64] -> Pool (with dropout on the pooling layer)\n",
    "#    conv_3 = Convolution2D(conv_depth_2, kernel_size, kernel_size, border_mode='same', activation='relu')(conv_2)\n",
    "#    conv_4 = Convolution2D(conv_depth_2, kernel_size, kernel_size, border_mode='same', activation='relu')(conv_3)\n",
    "#    pool_2 = MaxPooling2D(pool_size=(pool_size, pool_size))(conv_4)\n",
    "#drop_2 = Dropout(drop_prob_1)(pool_2)\n",
    "# Now flatten to 1D, apply FC -> ReLU (with dropout) -> softmax\n",
    "    flat = Flatten()(drop_1)\n",
    "#    hidden = Dense(hidden_size, activation='relu')(flat)\n",
    "#drop_3 = Dropout(drop_prob_2)(hidden)\n",
    "    out = Dense(num_classes, activation='softmax')(flat)\n",
    "\n",
    "    model = Model(input=inp, output=out) # To define a model, just specify its input and output layers\n",
    "    model.compile(loss='categorical_crossentropy', # using the cross-entropy loss function\n",
    "              optimizer='adam', # using the Adam optimiser\n",
    "              metrics=['accuracy']) # reporting the accuracy\n",
    "    return model"
   ]
  },
  {
   "cell_type": "code",
   "execution_count": null,
   "metadata": {},
   "outputs": [],
   "source": [
    "def def_cnn_model_2(height,width,depth):\n",
    "    batch_size = 8 # in each iteration, we consider 32 training examples at once\n",
    "    num_epochs = 2 # we iterate 200 times over the entire training set\n",
    "    kernel_size = 3 # we will use 3x3 kernels throughout\n",
    "    pool_size = 2 # we will use 2x2 pooling throughout\n",
    "    conv_depth_1 = 25#6#height*2 # we will initially have 32 kernels per conv. layer...\n",
    "    conv_depth_2 = height #64 # ...switching to 64 after the first pooling layer\n",
    "    drop_prob_1 = 0.25 # dropout after pooling with probability 0.25\n",
    "    drop_prob_2 = 0.5 # dropout in the FC layer with probability 0.5\n",
    "    hidden_size = 58 # the FC layer will have 512 neurons\n",
    "    num_classes=5\n",
    "\n",
    "    inp = Input(shape=(height, width,depth)) # N.B. depth goes first in Keras!\n",
    "# Conv [32] -> Conv [32] -> Pool (with dropout on the pooling layer)\n",
    "    conv_1 = Convolution2D(conv_depth_1, kernel_size, kernel_size, border_mode='same', activation='relu')(inp)\n",
    "    conv_2 = Convolution2D(conv_depth_1, kernel_size, kernel_size, border_mode='same', activation='relu')(conv_1)\n",
    "    conv_3 = Convolution2D(conv_depth_1, kernel_size, kernel_size, border_mode='same', activation='relu')(conv_2)\n",
    "    pool_1 = MaxPooling2D(pool_size=(pool_size, pool_size))(conv_3)\n",
    "    drop_1 = Dropout(drop_prob_1)(pool_1)\n",
    "# Conv [64] -> Conv [64] -> Pool (with dropout on the pooling layer)\n",
    "#    conv_3 = Convolution2D(conv_depth_2, kernel_size, kernel_size, border_mode='same', activation='relu')(conv_2)\n",
    "#    conv_4 = Convolution2D(conv_depth_2, kernel_size, kernel_size, border_mode='same', activation='relu')(conv_3)\n",
    "#    pool_2 = MaxPooling2D(pool_size=(pool_size, pool_size))(conv_4)\n",
    "#drop_2 = Dropout(drop_prob_1)(pool_2)\n",
    "# Now flatten to 1D, apply FC -> ReLU (with dropout) -> softmax\n",
    "    flat = Flatten()(drop_1)\n",
    "#    hidden = Dense(hidden_size, activation='relu')(flat)\n",
    "#drop_3 = Dropout(drop_prob_2)(hidden)\n",
    "    out = Dense(num_classes, activation='softmax')(flat)\n",
    "\n",
    "    model = Model(input=inp, output=out) # To define a model, just specify its input and output layers\n",
    "    model.compile(loss='categorical_crossentropy', # using the cross-entropy loss function\n",
    "              optimizer='adam', # using the Adam optimiser\n",
    "              metrics=['accuracy']) # reporting the accuracy\n",
    "    return model"
   ]
  },
  {
   "cell_type": "code",
   "execution_count": null,
   "metadata": {},
   "outputs": [],
   "source": [
    "def def_cnn_model_3(height,width,depth):\n",
    "    batch_size = 8 # in each iteration, we consider 32 training examples at once\n",
    "    num_epochs = 2 # we iterate 200 times over the entire training set\n",
    "    kernel_size = 3 # we will use 3x3 kernels throughout\n",
    "    pool_size = 2 # we will use 2x2 pooling throughout\n",
    "    conv_depth_1 = 12#6#height*2 # we will initially have 32 kernels per conv. layer...\n",
    "    conv_depth_2 = height #64 # ...switching to 64 after the first pooling layer\n",
    "    drop_prob_1 = 0.25 # dropout after pooling with probability 0.25\n",
    "    drop_prob_2 = 0.5 # dropout in the FC layer with probability 0.5\n",
    "    hidden_size = 58 # the FC layer will have 512 neurons\n",
    "    num_classes=5\n",
    "\n",
    "    inp = Input(shape=(height, width,depth)) # N.B. depth goes first in Keras!\n",
    "# Conv [32] -> Conv [32] -> Pool (with dropout on the pooling layer)\n",
    "    conv_1 = Convolution2D(conv_depth_1, kernel_size, kernel_size, border_mode='same', activation='relu')(inp)\n",
    "    conv_2 = Convolution2D(conv_depth_1, kernel_size, kernel_size, border_mode='same', activation='relu')(conv_1)\n",
    "    \n",
    "    pool_1 = MaxPooling2D(pool_size=(pool_size, pool_size))(conv_2)\n",
    "    drop_1 = Dropout(drop_prob_1)(pool_1)\n",
    "# Conv [64] -> Conv [64] -> Pool (with dropout on the pooling layer)\n",
    "#    conv_3 = Convolution2D(conv_depth_2, kernel_size, kernel_size, border_mode='same', activation='relu')(conv_2)\n",
    "#    conv_4 = Convolution2D(conv_depth_2, kernel_size, kernel_size, border_mode='same', activation='relu')(conv_3)\n",
    "#    pool_2 = MaxPooling2D(pool_size=(pool_size, pool_size))(conv_4)\n",
    "#drop_2 = Dropout(drop_prob_1)(pool_2)\n",
    "# Now flatten to 1D, apply FC -> ReLU (with dropout) -> softmax\n",
    "    flat = Flatten()(drop_1)\n",
    "#    hidden = Dense(hidden_size, activation='relu')(flat)\n",
    "#drop_3 = Dropout(drop_prob_2)(hidden)\n",
    "    out = Dense(num_classes, activation='softmax')(flat)\n",
    "\n",
    "    model = Model(input=inp, output=out) # To define a model, just specify its input and output layers\n",
    "    model.compile(loss='categorical_crossentropy', # using the cross-entropy loss function\n",
    "              optimizer='adam', # using the Adam optimiser\n",
    "              metrics=['accuracy']) # reporting the accuracy\n",
    "    return model"
   ]
  },
  {
   "cell_type": "code",
   "execution_count": 108,
   "metadata": {},
   "outputs": [],
   "source": [
    "accuracy = np.zeros(len(colors), dtype='int')\n",
    "all_elems = np.zeros(len(colors), dtype='int')\n",
    "def estimateAccuracy(train_a,train_b,dlin_t,model_t):\n",
    "     for k in range(dlin_t):\n",
    "        ttt=np.zeros((1,win_size, win_size,3), dtype='float32')\n",
    "        ttt[0]=train_a[k]\n",
    "        z=model_t.predict(ttt)    #print(z)\n",
    "        tx=train_b[k,0]\n",
    "    \n",
    "        ty=z; #z[0]\n",
    "        m_idx = np.argmax(ty[0])  \n",
    "        real_idx = np.argmax(tx)\n",
    "        #print(m_idx, real_idx)\n",
    "        #for j in range(len(ty[0])):\n",
    "           # if ty[0,j] == m_value:\n",
    "              #  ty[0,j] = 1\n",
    "               # m_idx = j\n",
    "            #else:\n",
    "                #ty[0,j] = 0    \n",
    "        #print(tx, ty)\n",
    "        #print(type(tx))\n",
    "        if  m_idx == real_idx:\n",
    "            accuracy[real_idx]  += 1\n",
    "            all_elems[real_idx] += 1\n",
    "        else:\n",
    "            all_elems[real_idx] += 1\n"
   ]
  },
  {
   "cell_type": "code",
   "execution_count": 109,
   "metadata": {},
   "outputs": [
    {
     "name": "stderr",
     "output_type": "stream",
     "text": [
      "C:\\Users\\anastasya\\Anaconda3\\lib\\site-packages\\ipykernel_launcher.py:15: UserWarning: Update your `Conv2D` call to the Keras 2 API: `Conv2D(22, (3, 3), activation=\"relu\", padding=\"same\")`\n",
      "  from ipykernel import kernelapp as app\n",
      "C:\\Users\\anastasya\\Anaconda3\\lib\\site-packages\\ipykernel_launcher.py:16: UserWarning: Update your `Conv2D` call to the Keras 2 API: `Conv2D(22, (3, 3), activation=\"relu\", padding=\"same\")`\n",
      "  app.launch_new_instance()\n",
      "C:\\Users\\anastasya\\Anaconda3\\lib\\site-packages\\ipykernel_launcher.py:30: UserWarning: Update your `Model` call to the Keras 2 API: `Model(inputs=Tensor(\"in..., outputs=Tensor(\"de...)`\n"
     ]
    }
   ],
   "source": [
    "if idx_model== 0:\n",
    "    model=def_cnn_model(height,width,depth)\n",
    "else:\n",
    "    if idx_model== 1:\n",
    "        model=def_cnn_model_1(height,width,depth)\n",
    "    else:\n",
    "        if idx_model== 2:\n",
    "            model=def_cnn_model_2(height,width,depth)\n",
    "        else:\n",
    "            model=def_cnn_model_3(height,width,depth)"
   ]
  },
  {
   "cell_type": "code",
   "execution_count": 110,
   "metadata": {
    "scrolled": true
   },
   "outputs": [
    {
     "name": "stdout",
     "output_type": "stream",
     "text": [
      "(928, 11, 11, 3)\n",
      "(928, 1, 5)\n",
      "0 [0.0]\n",
      "1 [0.0]\n",
      "2 [0.0]\n",
      "3 [0.0]\n",
      "4 [0.0]\n",
      "5 [0.0]\n",
      "6 [0.04301075264811516]\n",
      "Train on 835 samples, validate on 93 samples\n",
      "Epoch 1/1\n",
      "835/835 [==============================] - 0s 338us/step - loss: 0.2709 - accuracy: 0.9114 - val_loss: 1.1177 - val_accuracy: 0.1398\n",
      "7 [0.5806451439857483]\n",
      "Train on 835 samples, validate on 93 samples\n",
      "Epoch 1/1\n",
      "835/835 [==============================] - 0s 348us/step - loss: 0.2494 - accuracy: 0.9102 - val_loss: 0.8140 - val_accuracy: 0.3871\n",
      "8 [0.23655913770198822]\n",
      "9 [0.8387096524238586]\n",
      "Train on 835 samples, validate on 93 samples\n",
      "Epoch 1/1\n",
      "835/835 [==============================] - 0s 331us/step - loss: 0.2062 - accuracy: 0.9365 - val_loss: 0.7694 - val_accuracy: 0.4946\n",
      "10 [0.8924731016159058]\n",
      "Train on 835 samples, validate on 93 samples\n",
      "Epoch 1/1\n",
      "835/835 [==============================] - 0s 344us/step - loss: 0.2117 - accuracy: 0.9234 - val_loss: 0.6402 - val_accuracy: 0.6344\n",
      "11 [0.9677419066429138]\n",
      "Train on 835 samples, validate on 93 samples\n",
      "Epoch 1/1\n",
      "835/835 [==============================] - 0s 336us/step - loss: 0.1971 - accuracy: 0.9234 - val_loss: 0.4196 - val_accuracy: 0.8602\n",
      "12 [0.5483871102333069]\n",
      "13 [0.5161290168762207]\n",
      "14 [0.7526881694793701]\n",
      "15 [0.6451612710952759]\n",
      "16 [0.9462365508079529]\n",
      "17 [0.9462365508079529]\n",
      "18 [0.8817204236984253]\n",
      "19 [0.3978494703769684]\n",
      "20 [0.8602150678634644]\n",
      "21 [0.37634408473968506]\n",
      "22 [0.301075279712677]\n",
      "23 [0.46236559748649597]\n",
      "24 [0.8817204236984253]\n",
      "end CNN train\n"
     ]
    }
   ],
   "source": [
    "msize=16 \n",
    "print(train_x_data.shape)\n",
    "print(train_y_data.shape)\n",
    "#print(sys.argc[0])\n",
    "model=train_CNN_model_ex(model,train_x_data,train_y_data,dlin,msize, param1,1,0.1)\n",
    "\n",
    "#estimateAccuracy(train_x_data, train_y_data, len(train_x_data), model)"
   ]
  },
  {
   "cell_type": "code",
   "execution_count": 111,
   "metadata": {},
   "outputs": [
    {
     "name": "stdout",
     "output_type": "stream",
     "text": [
      "[38 50 54 22 26] [38 50 54 24 34]\n",
      "[1.0, 1.0, 1.0, 0.9166666666666666, 0.7647058823529411]\n"
     ]
    }
   ],
   "source": [
    "#estimateAccuracy(train_x_valid, train_y_valid, len(train_x_valid), model)\n",
    "#print(accuracy,all_elems )\n",
    "#p=[accuracy[i]/all_elems[i] for i in range(len(colors))]\n",
    "#print(p)\n",
    "#with open(acc_file, 'r+') as f:\n",
    "    # ...\n",
    "    #f.seek(0, 2)       # перемещение курсора в конец файла\n",
    "    #f.write( \" \".join(str(x) for x in p)) \n",
    "    #f.close()    "
   ]
  },
  {
   "cell_type": "code",
   "execution_count": 112,
   "metadata": {},
   "outputs": [],
   "source": [
    "#print(x2y)"
   ]
  },
  {
   "cell_type": "code",
   "execution_count": 113,
   "metadata": {},
   "outputs": [],
   "source": [
    "temple_file = Image.open(img_file_name)\n",
    "img = Image.new('RGB', temple_file.size, color=0)\n",
    "x0 = 0\n",
    "y0 = 0\n",
    "draw  = ImageDraw.Draw(img)\n",
    "width, height = img.size\n",
    "im2=np.zeros((1, win_size, win_size, 3), dtype='float32')\n",
    "class_marks = np.zeros((width,height), dtype='int')\n",
    "for i in range(0, width,step_len -1):\n",
    "    for j in range(0, height,step_len -1):\n",
    "        if(i + win_size) < width and (j + win_size ) < height:\n",
    "            x2y = [(i,j), (i + win_size, j),(i + win_size, j + win_size), (i, j + win_size)]\n",
    "            im2[0] = np.array(  temple_file.crop((i, j, i + win_size,j + win_size)))*1./255.\n",
    "            z = model.predict(im2)       \n",
    "            m_idx = np.argmax(z[0])\n",
    "            for k in range(win_size):\n",
    "                for l in range(win_size):\n",
    "                    class_marks[i + k, j + l] = m_idx \n",
    "            draw.polygon(x2y, outline = t_color[m_idx], fill = t_color[m_idx])\n",
    "\n",
    "img.save(result_fileName)\n",
    "img.close()"
   ]
  },
  {
   "cell_type": "code",
   "execution_count": 114,
   "metadata": {},
   "outputs": [
    {
     "data": {
      "text/plain": [
       "'\\ntemple_file = Image.open(\"D:/_SAR_Kubinka/accumulated.BMP\")\\nimg = Image.new(\\'RGB\\', temple_file.size, color=0)\\nx0 = 0\\ny0 = 0\\ndraw  = ImageDraw.Draw(img)\\nwidth, height = img.size\\nim2=np.zeros((1, win_size, win_size, 3), dtype=\\'float32\\')\\n#class_marks = np.zeros((width,height), dtype=\\'int\\')\\nfor i in range(0, width,step_len -1):\\n    for j in range(0, height,step_len -1):\\n        if(i + win_size )< width and (j + win_size )< height:\\n            x2y = [(i,j), (i + win_size,j),(i + win_size,j +win_size), (i,j +win_size)]\\n            im2[0]=np.array(  temple_file.crop((i, j, i + win_size,j + win_size)) )*1./255.\\n            z=model.predict(im2)    #print(z)\\n       \\n            m_idx = np.argmax(z[0])\\n           # for k in range(win_size):\\n               # for l in range(win_size):\\n                    #class_marks[i + k, j+l]= m_idx + 1\\n            draw.polygon(x2y, outline = t_color[m_idx], fill = t_color[m_idx])\\n\\nimg.save(\"D:/_SAR_Kubinka/classification_result_accumulated.BMP\")\\nimg.close()\\n'"
      ]
     },
     "execution_count": 114,
     "metadata": {},
     "output_type": "execute_result"
    }
   ],
   "source": [
    "'''\n",
    "temple_file = Image.open(\"D:/_SAR_Kubinka/accumulated.BMP\")\n",
    "img = Image.new('RGB', temple_file.size, color=0)\n",
    "x0 = 0\n",
    "y0 = 0\n",
    "draw  = ImageDraw.Draw(img)\n",
    "width, height = img.size\n",
    "im2=np.zeros((1, win_size, win_size, 3), dtype='float32')\n",
    "#class_marks = np.zeros((width,height), dtype='int')\n",
    "for i in range(0, width,step_len -1):\n",
    "    for j in range(0, height,step_len -1):\n",
    "        if(i + win_size )< width and (j + win_size )< height:\n",
    "            x2y = [(i,j), (i + win_size,j),(i + win_size,j +win_size), (i,j +win_size)]\n",
    "            im2[0]=np.array(  temple_file.crop((i, j, i + win_size,j + win_size)) )*1./255.\n",
    "            z=model.predict(im2)    #print(z)\n",
    "       \n",
    "            m_idx = np.argmax(z[0])\n",
    "           # for k in range(win_size):\n",
    "               # for l in range(win_size):\n",
    "                    #class_marks[i + k, j+l]= m_idx + 1\n",
    "            draw.polygon(x2y, outline = t_color[m_idx], fill = t_color[m_idx])\n",
    "\n",
    "img.save(\"D:/_SAR_Kubinka/classification_result_accumulated.BMP\")\n",
    "img.close()\n",
    "'''"
   ]
  },
  {
   "cell_type": "code",
   "execution_count": 115,
   "metadata": {},
   "outputs": [
    {
     "data": {
      "text/plain": [
       "'\\ntemple_file = Image.open(\"D:/_SAR_Kubinka/accumulated_1.BMP\")\\nimg = Image.new(\\'RGB\\', temple_file.size, color=0)\\nx0 = 0\\ny0 = 0\\ndraw  = ImageDraw.Draw(img)\\nwidth, height = img.size\\nim2=np.zeros((1, win_size, win_size, 3), dtype=\\'float32\\')\\n#class_marks = np.zeros((width,height), dtype=\\'int\\')\\nfor i in range(0, width,step_len -1):\\n    for j in range(0, height,step_len -1):\\n        if(i + win_size )< width and (j + win_size )< height:\\n            x2y = [(i,j), (i + win_size,j),(i + win_size,j +win_size), (i,j +win_size)]\\n            im2[0]=np.array(  temple_file.crop((i, j, i + win_size,j + win_size)) )*1./255.\\n            z=model.predict(im2)    #print(z)\\n       \\n            m_idx = np.argmax(z[0])\\n           # for k in range(win_size):\\n               # for l in range(win_size):\\n                    #class_marks[i + k, j+l]= m_idx + 1\\n            draw.polygon(x2y, outline = t_color[m_idx], fill = t_color[m_idx])\\n\\nimg.save(\"D:/_SAR_Kubinka/classification_result_accumulated_1.BMP\")\\nimg.close()\\n'"
      ]
     },
     "execution_count": 115,
     "metadata": {},
     "output_type": "execute_result"
    }
   ],
   "source": [
    "'''\n",
    "temple_file = Image.open(\"D:/_SAR_Kubinka/accumulated_1.BMP\")\n",
    "img = Image.new('RGB', temple_file.size, color=0)\n",
    "x0 = 0\n",
    "y0 = 0\n",
    "draw  = ImageDraw.Draw(img)\n",
    "width, height = img.size\n",
    "im2=np.zeros((1, win_size, win_size, 3), dtype='float32')\n",
    "#class_marks = np.zeros((width,height), dtype='int')\n",
    "for i in range(0, width,step_len -1):\n",
    "    for j in range(0, height,step_len -1):\n",
    "        if(i + win_size )< width and (j + win_size )< height:\n",
    "            x2y = [(i,j), (i + win_size,j),(i + win_size,j +win_size), (i,j +win_size)]\n",
    "            im2[0]=np.array(  temple_file.crop((i, j, i + win_size,j + win_size)) )*1./255.\n",
    "            z=model.predict(im2)    #print(z)\n",
    "       \n",
    "            m_idx = np.argmax(z[0])\n",
    "           # for k in range(win_size):\n",
    "               # for l in range(win_size):\n",
    "                    #class_marks[i + k, j+l]= m_idx + 1\n",
    "            draw.polygon(x2y, outline = t_color[m_idx], fill = t_color[m_idx])\n",
    "\n",
    "img.save(\"D:/_SAR_Kubinka/classification_result_accumulated_1.BMP\")\n",
    "img.close()\n",
    "'''"
   ]
  },
  {
   "cell_type": "code",
   "execution_count": 116,
   "metadata": {},
   "outputs": [
    {
     "data": {
      "text/plain": [
       "'\\nfrom PIL import ImageFilter\\nimport numpy as np\\npicture = Image.open(img_file_name)\\nwidth, height = picture.size\\nwidth //= 2\\nheight //= 2\\nimg = Image.new(\\'RGB\\', (width, height), color=0)\\n# Process every pixel\\nim2=np.zeros((1, 2, 2, 3), dtype=\\'float32\\')\\nfor i in range(width):\\n    for j in range(height):\\n        if(i + 2 )< width and (j + 2 )< height:\\n            #x2y = [(i,j), (i + win_size,j),(i + win_size,j +win_size), (i,j +win_size)]\\n            im2[0]=np.array(  picture.crop((2*i, 2*j, 2*i + 2,j*2 + 2)) )#*1./255.\\n            color = (im2[0][0,0] + im2[0][0,1]+ im2[0][1,1] + im2[0][1,0])//4\\n            #print(color)\\n            img.putpixel( (i,j), (color[0], color[1], color[2]))\\nimg.save(\"D:/_SAR_Kubinka/accumulated.BMP\")\\nimg.close()      \\n'"
      ]
     },
     "execution_count": 116,
     "metadata": {},
     "output_type": "execute_result"
    }
   ],
   "source": [
    "'''\n",
    "from PIL import ImageFilter\n",
    "import numpy as np\n",
    "picture = Image.open(img_file_name)\n",
    "width, height = picture.size\n",
    "width //= 2\n",
    "height //= 2\n",
    "img = Image.new('RGB', (width, height), color=0)\n",
    "# Process every pixel\n",
    "im2=np.zeros((1, 2, 2, 3), dtype='float32')\n",
    "for i in range(width):\n",
    "    for j in range(height):\n",
    "        if(i + 2 )< width and (j + 2 )< height:\n",
    "            #x2y = [(i,j), (i + win_size,j),(i + win_size,j +win_size), (i,j +win_size)]\n",
    "            im2[0]=np.array(  picture.crop((2*i, 2*j, 2*i + 2,j*2 + 2)) )#*1./255.\n",
    "            color = (im2[0][0,0] + im2[0][0,1]+ im2[0][1,1] + im2[0][1,0])//4\n",
    "            #print(color)\n",
    "            img.putpixel( (i,j), (color[0], color[1], color[2]))\n",
    "img.save(\"D:/_SAR_Kubinka/accumulated.BMP\")\n",
    "img.close()      \n",
    "'''"
   ]
  },
  {
   "cell_type": "code",
   "execution_count": 117,
   "metadata": {},
   "outputs": [
    {
     "data": {
      "text/plain": [
       "'\\nfrom PIL import ImageFilter\\nimport numpy as np\\npicture = Image.open(\"D:/_SAR_Kubinka/accumulated.BMP\")\\nwidth, height = picture.size\\nwidth //= 2\\nheight //= 2\\nimg = Image.new(\\'RGB\\', (width, height), color=0)\\n# Process every pixel\\nim2=np.zeros((1, 2, 2, 3), dtype=\\'float32\\')\\nfor i in range(width):\\n    for j in range(height):\\n        if(i + 2 )< width and (j + 2 )< height:\\n            #x2y = [(i,j), (i + win_size,j),(i + win_size,j +win_size), (i,j +win_size)]\\n            im2[0]=np.array(  picture.crop((2*i, 2*j, 2*i + 2,j*2 + 2)) )#*1./255.\\n            color = (im2[0][0,0] + im2[0][0,1]+ im2[0][1,1] + im2[0][1,0])//4\\n            #print(color)\\n            img.putpixel( (i,j), (color[0], color[1], color[2]))\\nimg.save(\"D:/_SAR_Kubinka/accumulated_1.BMP\")\\nimg.close()  \\n'"
      ]
     },
     "execution_count": 117,
     "metadata": {},
     "output_type": "execute_result"
    }
   ],
   "source": [
    "'''\n",
    "from PIL import ImageFilter\n",
    "import numpy as np\n",
    "picture = Image.open(\"D:/_SAR_Kubinka/accumulated.BMP\")\n",
    "width, height = picture.size\n",
    "width //= 2\n",
    "height //= 2\n",
    "img = Image.new('RGB', (width, height), color=0)\n",
    "# Process every pixel\n",
    "im2=np.zeros((1, 2, 2, 3), dtype='float32')\n",
    "for i in range(width):\n",
    "    for j in range(height):\n",
    "        if(i + 2 )< width and (j + 2 )< height:\n",
    "            #x2y = [(i,j), (i + win_size,j),(i + win_size,j +win_size), (i,j +win_size)]\n",
    "            im2[0]=np.array(  picture.crop((2*i, 2*j, 2*i + 2,j*2 + 2)) )#*1./255.\n",
    "            color = (im2[0][0,0] + im2[0][0,1]+ im2[0][1,1] + im2[0][1,0])//4\n",
    "            #print(color)\n",
    "            img.putpixel( (i,j), (color[0], color[1], color[2]))\n",
    "img.save(\"D:/_SAR_Kubinka/accumulated_1.BMP\")\n",
    "img.close()  \n",
    "'''"
   ]
  },
  {
   "cell_type": "code",
   "execution_count": 118,
   "metadata": {},
   "outputs": [],
   "source": [
    "with open(marks_filename, 'w') as file:\n",
    "    for i in range(img_len):\n",
    "        for j in range(img_len):\n",
    "            file.write(str(class_marks[j, img_len-i] +1)) \n",
    "            file.write(\" \") \n",
    "        file.write(\"\\n\")\n",
    "    file.close()    "
   ]
  },
  {
   "cell_type": "code",
   "execution_count": 119,
   "metadata": {
    "scrolled": true
   },
   "outputs": [
    {
     "data": {
      "image/png": "[encoded data removed]",
      "text/plain": [
       "<Figure size 1296x1152 with 3 Axes>"
      ]
     },
     "metadata": {
      "needs_background": "light"
     },
     "output_type": "display_data"
    }
   ],
   "source": [
    "gridsize = (1, 2)\n",
    "fig = plt.figure(figsize=(18, 16))\n",
    "ax1 = plt.subplot2grid(gridsize, (0, 0))\n",
    "ax2 = plt.subplot2grid(gridsize, (0, 1))\n",
    "data = np.loadtxt(marks_filename)\n",
    "pc = ax1.contourf(data)\n",
    "plt.colorbar(pc, ax=ax1, format='$%d')\n",
    "plt.show()"
   ]
  },
  {
   "cell_type": "code",
   "execution_count": 120,
   "metadata": {},
   "outputs": [],
   "source": [
    "#import os\n",
    "#os.startfile(\"C:/Users/anastasya/CMakeBuilds/71f94088-de5b-a431-82e1-cdd7ec577f63/build/x64-Debug (по умолчанию)/exec/exec.exe\")"
   ]
  },
  {
   "cell_type": "code",
   "execution_count": null,
   "metadata": {},
   "outputs": [],
   "source": [
    "import subprocess\n",
    "subprocess.run(['C:/Users/anastasya/CMakeBuilds/71f94088-de5b-a431-82e1-cdd7ec577f63/build/x64-Debug (по умолчанию)/exec/exec.exe',\"1\", metrics, marks_filename, results, faults])"
   ]
  }
 ],
 "metadata": {
  "kernelspec": {
   "display_name": "Python 3",
   "language": "python",
   "name": "python3"
  },
  "language_info": {
   "codemirror_mode": {
    "name": "ipython",
    "version": 3
   },
   "file_extension": ".py",
   "mimetype": "text/x-python",
   "name": "python",
   "nbconvert_exporter": "python",
   "pygments_lexer": "ipython3",
   "version": "3.7.3"
  }
 },
 "nbformat": 4,
 "nbformat_minor": 2
}
